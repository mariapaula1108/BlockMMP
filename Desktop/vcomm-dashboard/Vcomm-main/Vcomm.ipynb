{
 "cells": [
  {
   "cell_type": "code",
   "execution_count": 5,
   "id": "039be1e0-461c-4488-b0b1-55e18456dc82",
   "metadata": {},
   "outputs": [],
   "source": [
    "import shapely\n",
    "import geopandas as gpd\n",
    "import fiona\n",
    "from shapely.geometry import Polygon"
   ]
  },
  {
   "cell_type": "code",
   "execution_count": 6,
   "id": "24a83a66-f9fa-46da-b9f4-9820e3630153",
   "metadata": {},
   "outputs": [],
   "source": [
    "df_ride = gpd.read_file('./Input/Ride_1.shp')\n",
    "df_ows = gpd.read_file('./Input/TLV_OWS_s.shp') #each row represents a street"
   ]
  },
  {
   "cell_type": "code",
   "execution_count": 7,
   "id": "f511cef5-e485-4a43-9785-22161626a256",
   "metadata": {},
   "outputs": [
    {
     "name": "stderr",
     "output_type": "stream",
     "text": [
      "/Users/mariapaulafernandez/Desktop/vcomm-dashboard/venv/lib/python3.7/site-packages/pyproj/crs/crs.py:131: FutureWarning: '+init=<authority>:<code>' syntax is deprecated. '<authority>:<code>' is the preferred initialization method. When making the change, be mindful of axis order changes: https://pyproj4.github.io/pyproj/stable/gotchas.html#axis-order-changes-in-proj-6\n",
      "  in_crs_string = _prepare_from_proj_string(in_crs_string)\n",
      "/Users/mariapaulafernandez/Desktop/vcomm-dashboard/venv/lib/python3.7/site-packages/pyproj/crs/crs.py:131: FutureWarning: '+init=<authority>:<code>' syntax is deprecated. '<authority>:<code>' is the preferred initialization method. When making the change, be mindful of axis order changes: https://pyproj4.github.io/pyproj/stable/gotchas.html#axis-order-changes-in-proj-6\n",
      "  in_crs_string = _prepare_from_proj_string(in_crs_string)\n"
     ]
    }
   ],
   "source": [
    "df_ride = df_ride.to_crs({'init': 'epsg:3395'})\n",
    "df_ows = df_ows.to_crs({'init': 'epsg:3395'})\n",
    "df_ride_buffer = df_ride.copy()\n",
    "df_ows_buffer = df_ows.copy()\n",
    "df_ride_buffer.geometry = df_ride.buffer(-10, single_sided=True) #add buffer to the street layer and the ride lay on different sides\n",
    "df_ows_buffer.geometry = df_ows.buffer(10, single_sided=True)    # note that each buffer is actually a polygon"
   ]
  },
  {
   "cell_type": "code",
   "execution_count": 20,
   "id": "c393e015-b7db-4c5f-b51d-71f3d4392708",
   "metadata": {},
   "outputs": [],
   "source": [
    "df_ows_buffer_sorted = gpd.GeoDataFrame(columns = ['shem_angli', 'UniqueId', 'Shape_len','geometry']) #create an empty dataframe\n",
    "# map the ride buffer to its closest street buffer and store it into the empty dataframe. Store the street id to the corresponding ride buffer\n",
    "for i in range(0, len(df_ride_buffer)):\n",
    "    min = df_ride_buffer.geometry[i].distance(df_ows_buffer.geometry[0])\n",
    "    min_index = 0\n",
    "    for j in range(0, len(df_ows_buffer)):\n",
    "        if df_ride_buffer.geometry[i].distance(df_ows_buffer.geometry[j]) < min:\n",
    "            min = df_ride_buffer.geometry[i].distance(df_ows_buffer.geometry[j])\n",
    "            min_index = j\n",
    "    df_ows_buffer_sorted.loc[i,:] = df_ows_buffer.loc[min_index,:]\n",
    "df_ows_buffer_sorted.head()"
   ]
  },
  {
   "cell_type": "code",
   "execution_count": 10,
   "id": "8c0a8fd4-ec21-4474-ae2f-5b1bcdd3c5f2",
   "metadata": {},
   "outputs": [
    {
     "name": "stderr",
     "output_type": "stream",
     "text": [
      "/Users/mariapaulafernandez/Desktop/vcomm-dashboard/venv/lib/python3.7/site-packages/geopandas/base.py:31: UserWarning: The indices of the two GeoSeries are different.\n",
      "  warn(\"The indices of the two GeoSeries are different.\")\n"
     ]
    }
   ],
   "source": [
    "df_ows_buffer_sorted = df_ows_buffer_sorted.set_crs(3395, allow_override=True)\n",
    "df_intersection = gpd.GeoDataFrame(columns = ['shem_angli', 'UniqueId', 'Shape_len','geometry']) #create an empty dataframe and store the intersected buffer in it(if there is no intersection it will still store an empty polygon)\n",
    "df_intersection = df_intersection.set_crs(3395, allow_override=True)\n",
    "df_intersection.loc[:,['shem_angli', 'UniqueId', 'Shape_len']] = df_ows_buffer_sorted.loc[:,['shem_angli', 'UniqueId', 'Shape_len']]\n",
    "df_intersection.geometry = df_ride_buffer.intersection(df_ows_buffer_sorted)"
   ]
  },
  {
   "cell_type": "code",
   "execution_count": 11,
   "id": "e8de32c4-5dba-4dd0-ae79-71838343ead2",
   "metadata": {},
   "outputs": [],
   "source": [
    "df_not_empty = gpd.GeoDataFrame(columns = ['UniqueId','geometry', 'area']) #create an empty dataframe and store the non empty polygon in it\n",
    "df_not_empty = df_not_empty.set_crs(3395, allow_override=True)\n",
    "counter = 0\n",
    "for i in range(len(df_intersection)):\n",
    "    if df_intersection.geometry[i].is_empty == False:\n",
    "        df_not_empty.loc[counter,['UniqueId','geometry']] = df_intersection.loc[i,['UniqueId','geometry']]\n",
    "        counter += 1"
   ]
  },
  {
   "cell_type": "code",
   "execution_count": 16,
   "id": "46e85bf9-edd7-4b0d-ae1f-74b744d8717d",
   "metadata": {},
   "outputs": [],
   "source": [
    "# calculate each polygon's area and append it to the area column\n",
    "for i in range(len(df_not_empty)):\n",
    "    df_not_empty['area'][i] = df_not_empty.geometry.loc[i].area\n",
    "    for j in range(i+1, len(df_not_empty)):\n",
    "        if df_not_empty['UniqueId'][i] == df_not_empty['UniqueId'][j]:\n",
    "            df_not_empty['area'][i] += df_not_empty.geometry.loc[j].area\n",
    "            df_not_empty.drop(index=[j], inplace=True)\n",
    "    df_not_empty.reset_index(drop=True, inplace=True) "
   ]
  },
  {
   "cell_type": "code",
   "execution_count": 17,
   "id": "9f9ffc6b-3f35-4400-8a73-06a096e1e532",
   "metadata": {},
   "outputs": [],
   "source": [
    "# group the ride buffer by its street id and sum up the area. Compare the area to its corresponding street buffer area. If the the ratio > 0.5 then it is a violation\n",
    "counter = 0\n",
    "ID = gpd.GeoDataFrame(columns=['UniqueId'])\n",
    "for i in range(len(df_not_empty)):\n",
    "    for j in range(len(df_ows_buffer)):\n",
    "        if df_not_empty.UniqueId[i] == df_ows_buffer.UniqueId[j]:\n",
    "            area = df_ows_buffer.geometry[j].area\n",
    "            if df_not_empty['area'][i]/area > 0.5:\n",
    "                ID.loc[counter,:] = df_not_empty.loc[i,['UniqueId']]\n",
    "                counter += 1"
   ]
  },
  {
   "cell_type": "code",
   "execution_count": 19,
   "id": "c3e9e13f-90c7-43d2-925d-690f34ccf552",
   "metadata": {},
   "outputs": [
    {
     "data": {
      "text/html": [
       "<div>\n",
       "<style scoped>\n",
       "    .dataframe tbody tr th:only-of-type {\n",
       "        vertical-align: middle;\n",
       "    }\n",
       "\n",
       "    .dataframe tbody tr th {\n",
       "        vertical-align: top;\n",
       "    }\n",
       "\n",
       "    .dataframe thead th {\n",
       "        text-align: right;\n",
       "    }\n",
       "</style>\n",
       "<table border=\"1\" class=\"dataframe\">\n",
       "  <thead>\n",
       "    <tr style=\"text-align: right;\">\n",
       "      <th></th>\n",
       "      <th>shem_angli</th>\n",
       "      <th>UniqueId</th>\n",
       "      <th>Shape_len</th>\n",
       "      <th>geometry</th>\n",
       "    </tr>\n",
       "  </thead>\n",
       "  <tbody>\n",
       "  </tbody>\n",
       "</table>\n",
       "</div>"
      ],
      "text/plain": [
       "Empty GeoDataFrame\n",
       "Columns: [shem_angli, UniqueId, Shape_len, geometry]\n",
       "Index: []"
      ]
     },
     "execution_count": 19,
     "metadata": {},
     "output_type": "execute_result"
    }
   ],
   "source": [
    "# output the streets that the rider has violated the safety event\n",
    "list_id=list(ID['UniqueId'])\n",
    "df_result = df_ows.loc[df_ows['UniqueId'].isin(list_id)]\n",
    "df_result.reset_index(drop=True,inplace=True)\n",
    "df_result.set_crs(3395, allow_override=True)"
   ]
  },
  {
   "cell_type": "code",
   "execution_count": null,
   "id": "4f59cae0-88e0-4757-9af1-74545dfc5023",
   "metadata": {},
   "outputs": [],
   "source": []
  }
 ],
 "metadata": {
  "kernelspec": {
   "display_name": "Python 3 (ipykernel)",
   "language": "python",
   "name": "python3"
  },
  "language_info": {
   "codemirror_mode": {
    "name": "ipython",
    "version": 3
   },
   "file_extension": ".py",
   "mimetype": "text/x-python",
   "name": "python",
   "nbconvert_exporter": "python",
   "pygments_lexer": "ipython3",
   "version": "3.7.0"
  }
 },
 "nbformat": 4,
 "nbformat_minor": 5
}
